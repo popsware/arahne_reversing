{
 "cells": [
  {
   "cell_type": "code",
   "execution_count": 2,
   "source": [
    "import numpy as np\r\n",
    "def square(x):\r\n",
    "    return x * x\r\n",
    "x = np.random.randint(1, 10)\r\n",
    "y = square(x)\r\n",
    "print('%d squared is %d' % (x, y))"
   ],
   "outputs": [
    {
     "output_type": "stream",
     "name": "stdout",
     "text": [
      "2 squared is 4\n"
     ]
    }
   ],
   "metadata": {}
  },
  {
   "cell_type": "code",
   "execution_count": 10,
   "source": [
    "import pandas as pd\r\n",
    "df = pd.read_csv('test.csv')\r\n",
    "print(df.head())\r\n",
    "print(df.columns)\r\n",
    "print(df.dtypes)"
   ],
   "outputs": [
    {
     "output_type": "stream",
     "name": "stdout",
     "text": [
      "      Name  Age  Experience\n",
      "0    Mohab   34          10\n",
      "1  Mohamed   16           6\n",
      "Index(['Name', 'Age', 'Experience'], dtype='object')\n",
      "Name          object\n",
      "Age            int64\n",
      "Experience     int64\n",
      "dtype: object\n"
     ]
    }
   ],
   "metadata": {}
  }
 ],
 "metadata": {
  "orig_nbformat": 4,
  "language_info": {
   "name": "python",
   "version": "3.9.6",
   "mimetype": "text/x-python",
   "codemirror_mode": {
    "name": "ipython",
    "version": 3
   },
   "pygments_lexer": "ipython3",
   "nbconvert_exporter": "python",
   "file_extension": ".py"
  },
  "kernelspec": {
   "name": "python3",
   "display_name": "Python 3.9.6 64-bit"
  },
  "interpreter": {
   "hash": "9461d9d8717e57e7c666e3fd63ab4dd268a0cc9551aed545de1c54deb833a5e2"
  }
 },
 "nbformat": 4,
 "nbformat_minor": 2
}